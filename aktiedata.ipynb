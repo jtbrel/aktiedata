{
 "cells": [
  {
   "cell_type": "code",
   "execution_count": 1,
   "metadata": {},
   "outputs": [
    {
     "name": "stderr",
     "output_type": "stream",
     "text": [
      "Matplotlib is building the font cache; this may take a moment.\n"
     ]
    }
   ],
   "source": [
    "import pandas as pd\n",
    "import yfinance as yf\n",
    "import matplotlib.pyplot as plt"
   ]
  },
  {
   "cell_type": "code",
   "execution_count": 23,
   "metadata": {},
   "outputs": [],
   "source": [
    "tickers_dict = {\n",
    "    'swe': ['EVO.ST', 'INVE-B.ST'],\n",
    "    'nor': ['DNB.OL', 'YAR.OL', '2020.OL', 'SBO.OL'],\n",
    "    'us': ['MSFT', 'AMZN', 'GOOG', 'NVDA'],\n",
    "}\n",
    "\n",
    "tickers_list = sorted([item for sublist in tickers_dict.values() for item in sublist])"
   ]
  },
  {
   "cell_type": "code",
   "execution_count": 53,
   "metadata": {},
   "outputs": [],
   "source": [
    "tickers = yf.Tickers(tickers_list)"
   ]
  },
  {
   "cell_type": "code",
   "execution_count": 59,
   "metadata": {},
   "outputs": [
    {
     "data": {
      "text/html": [
       "<div>\n",
       "<style scoped>\n",
       "    .dataframe tbody tr th:only-of-type {\n",
       "        vertical-align: middle;\n",
       "    }\n",
       "\n",
       "    .dataframe tbody tr th {\n",
       "        vertical-align: top;\n",
       "    }\n",
       "\n",
       "    .dataframe thead th {\n",
       "        text-align: right;\n",
       "    }\n",
       "</style>\n",
       "<table border=\"1\" class=\"dataframe\">\n",
       "  <thead>\n",
       "    <tr style=\"text-align: right;\">\n",
       "      <th></th>\n",
       "      <th>Ex-Dividend Date</th>\n",
       "      <th>Earnings Date</th>\n",
       "      <th>Earnings High</th>\n",
       "      <th>Earnings Low</th>\n",
       "      <th>Earnings Average</th>\n",
       "      <th>Revenue High</th>\n",
       "      <th>Revenue Low</th>\n",
       "      <th>Revenue Average</th>\n",
       "      <th>Dividend Date</th>\n",
       "    </tr>\n",
       "  </thead>\n",
       "  <tbody>\n",
       "    <tr>\n",
       "      <th>2020.OL</th>\n",
       "      <td>2024-10-17</td>\n",
       "      <td>[2024-11-13]</td>\n",
       "      <td>15.34</td>\n",
       "      <td>3.73</td>\n",
       "      <td>11.21</td>\n",
       "      <td>2.301000e+08</td>\n",
       "      <td>1.753200e+08</td>\n",
       "      <td>2.008800e+08</td>\n",
       "      <td>NaN</td>\n",
       "    </tr>\n",
       "    <tr>\n",
       "      <th>AMZN</th>\n",
       "      <td>NaN</td>\n",
       "      <td>[2025-01-30, 2025-02-03]</td>\n",
       "      <td>1.83</td>\n",
       "      <td>1.15</td>\n",
       "      <td>1.34</td>\n",
       "      <td>1.883960e+11</td>\n",
       "      <td>1.836970e+11</td>\n",
       "      <td>1.863010e+11</td>\n",
       "      <td>NaN</td>\n",
       "    </tr>\n",
       "    <tr>\n",
       "      <th>DNB.OL</th>\n",
       "      <td>2024-04-30</td>\n",
       "      <td>[2024-10-22]</td>\n",
       "      <td>6.64</td>\n",
       "      <td>5.90</td>\n",
       "      <td>6.34</td>\n",
       "      <td>2.101500e+10</td>\n",
       "      <td>2.010980e+10</td>\n",
       "      <td>2.051580e+10</td>\n",
       "      <td>NaN</td>\n",
       "    </tr>\n",
       "    <tr>\n",
       "      <th>EVO.ST</th>\n",
       "      <td>2024-04-29</td>\n",
       "      <td>[2025-01-30]</td>\n",
       "      <td>16.23</td>\n",
       "      <td>15.18</td>\n",
       "      <td>15.63</td>\n",
       "      <td>6.433770e+09</td>\n",
       "      <td>6.083990e+09</td>\n",
       "      <td>6.184530e+09</td>\n",
       "      <td>NaN</td>\n",
       "    </tr>\n",
       "    <tr>\n",
       "      <th>GOOG</th>\n",
       "      <td>2024-12-09</td>\n",
       "      <td>[2025-01-28, 2025-02-03]</td>\n",
       "      <td>2.44</td>\n",
       "      <td>1.84</td>\n",
       "      <td>2.11</td>\n",
       "      <td>9.850800e+10</td>\n",
       "      <td>9.487300e+10</td>\n",
       "      <td>9.662500e+10</td>\n",
       "      <td>2024-09-16</td>\n",
       "    </tr>\n",
       "    <tr>\n",
       "      <th>INVE-B.ST</th>\n",
       "      <td>2024-11-08</td>\n",
       "      <td>[2025-01-23]</td>\n",
       "      <td>NaN</td>\n",
       "      <td>NaN</td>\n",
       "      <td>NaN</td>\n",
       "      <td>NaN</td>\n",
       "      <td>NaN</td>\n",
       "      <td>NaN</td>\n",
       "      <td>NaN</td>\n",
       "    </tr>\n",
       "    <tr>\n",
       "      <th>MSFT</th>\n",
       "      <td>2024-11-21</td>\n",
       "      <td>[2025-01-28, 2025-02-03]</td>\n",
       "      <td>3.37</td>\n",
       "      <td>3.08</td>\n",
       "      <td>3.16</td>\n",
       "      <td>7.057000e+10</td>\n",
       "      <td>6.848870e+10</td>\n",
       "      <td>6.904820e+10</td>\n",
       "      <td>2024-12-12</td>\n",
       "    </tr>\n",
       "    <tr>\n",
       "      <th>NVDA</th>\n",
       "      <td>2024-09-12</td>\n",
       "      <td>[2024-11-21]</td>\n",
       "      <td>0.80</td>\n",
       "      <td>0.72</td>\n",
       "      <td>0.74</td>\n",
       "      <td>3.497900e+10</td>\n",
       "      <td>3.207400e+10</td>\n",
       "      <td>3.291380e+10</td>\n",
       "      <td>2024-10-03</td>\n",
       "    </tr>\n",
       "    <tr>\n",
       "      <th>SBO.OL</th>\n",
       "      <td>2024-04-26</td>\n",
       "      <td>[2024-11-07]</td>\n",
       "      <td>NaN</td>\n",
       "      <td>NaN</td>\n",
       "      <td>NaN</td>\n",
       "      <td>9.800000e+08</td>\n",
       "      <td>9.800000e+08</td>\n",
       "      <td>6.277410e+08</td>\n",
       "      <td>NaN</td>\n",
       "    </tr>\n",
       "    <tr>\n",
       "      <th>YAR.OL</th>\n",
       "      <td>2024-05-29</td>\n",
       "      <td>[2024-10-25]</td>\n",
       "      <td>6.57</td>\n",
       "      <td>3.31</td>\n",
       "      <td>4.84</td>\n",
       "      <td>4.534100e+10</td>\n",
       "      <td>3.633420e+10</td>\n",
       "      <td>4.097660e+10</td>\n",
       "      <td>NaN</td>\n",
       "    </tr>\n",
       "  </tbody>\n",
       "</table>\n",
       "</div>"
      ],
      "text/plain": [
       "          Ex-Dividend Date             Earnings Date  Earnings High  \\\n",
       "2020.OL         2024-10-17              [2024-11-13]          15.34   \n",
       "AMZN                   NaN  [2025-01-30, 2025-02-03]           1.83   \n",
       "DNB.OL          2024-04-30              [2024-10-22]           6.64   \n",
       "EVO.ST          2024-04-29              [2025-01-30]          16.23   \n",
       "GOOG            2024-12-09  [2025-01-28, 2025-02-03]           2.44   \n",
       "INVE-B.ST       2024-11-08              [2025-01-23]            NaN   \n",
       "MSFT            2024-11-21  [2025-01-28, 2025-02-03]           3.37   \n",
       "NVDA            2024-09-12              [2024-11-21]           0.80   \n",
       "SBO.OL          2024-04-26              [2024-11-07]            NaN   \n",
       "YAR.OL          2024-05-29              [2024-10-25]           6.57   \n",
       "\n",
       "           Earnings Low  Earnings Average  Revenue High   Revenue Low  \\\n",
       "2020.OL            3.73             11.21  2.301000e+08  1.753200e+08   \n",
       "AMZN               1.15              1.34  1.883960e+11  1.836970e+11   \n",
       "DNB.OL             5.90              6.34  2.101500e+10  2.010980e+10   \n",
       "EVO.ST            15.18             15.63  6.433770e+09  6.083990e+09   \n",
       "GOOG               1.84              2.11  9.850800e+10  9.487300e+10   \n",
       "INVE-B.ST           NaN               NaN           NaN           NaN   \n",
       "MSFT               3.08              3.16  7.057000e+10  6.848870e+10   \n",
       "NVDA               0.72              0.74  3.497900e+10  3.207400e+10   \n",
       "SBO.OL              NaN               NaN  9.800000e+08  9.800000e+08   \n",
       "YAR.OL             3.31              4.84  4.534100e+10  3.633420e+10   \n",
       "\n",
       "           Revenue Average Dividend Date  \n",
       "2020.OL       2.008800e+08           NaN  \n",
       "AMZN          1.863010e+11           NaN  \n",
       "DNB.OL        2.051580e+10           NaN  \n",
       "EVO.ST        6.184530e+09           NaN  \n",
       "GOOG          9.662500e+10    2024-09-16  \n",
       "INVE-B.ST              NaN           NaN  \n",
       "MSFT          6.904820e+10    2024-12-12  \n",
       "NVDA          3.291380e+10    2024-10-03  \n",
       "SBO.OL        6.277410e+08           NaN  \n",
       "YAR.OL        4.097660e+10           NaN  "
      ]
     },
     "execution_count": 59,
     "metadata": {},
     "output_type": "execute_result"
    }
   ],
   "source": [
    "df_calendar = pd.DataFrame((tickers.tickers[i].calendar for i in tickers_list), index=tickers_list)\n",
    "df_calendar"
   ]
  },
  {
   "cell_type": "code",
   "execution_count": null,
   "metadata": {},
   "outputs": [],
   "source": []
  },
  {
   "cell_type": "code",
   "execution_count": null,
   "metadata": {},
   "outputs": [],
   "source": []
  },
  {
   "cell_type": "code",
   "execution_count": 56,
   "metadata": {},
   "outputs": [],
   "source": [
    "df_price_targets = pd.DataFrame((tickers.tickers[i].analyst_price_targets for i in tickers_list), index=tickers_list) "
   ]
  },
  {
   "cell_type": "code",
   "execution_count": 57,
   "metadata": {},
   "outputs": [
    {
     "data": {
      "text/html": [
       "<div>\n",
       "<style scoped>\n",
       "    .dataframe tbody tr th:only-of-type {\n",
       "        vertical-align: middle;\n",
       "    }\n",
       "\n",
       "    .dataframe tbody tr th {\n",
       "        vertical-align: top;\n",
       "    }\n",
       "\n",
       "    .dataframe thead th {\n",
       "        text-align: right;\n",
       "    }\n",
       "</style>\n",
       "<table border=\"1\" class=\"dataframe\">\n",
       "  <thead>\n",
       "    <tr style=\"text-align: right;\">\n",
       "      <th></th>\n",
       "      <th>current</th>\n",
       "      <th>low</th>\n",
       "      <th>high</th>\n",
       "      <th>mean</th>\n",
       "      <th>median</th>\n",
       "    </tr>\n",
       "  </thead>\n",
       "  <tbody>\n",
       "    <tr>\n",
       "      <th>2020.OL</th>\n",
       "      <td>132.8000</td>\n",
       "      <td>152.31</td>\n",
       "      <td>207.53</td>\n",
       "      <td>187.70</td>\n",
       "      <td>202.38</td>\n",
       "    </tr>\n",
       "    <tr>\n",
       "      <th>AMZN</th>\n",
       "      <td>199.5102</td>\n",
       "      <td>180.00</td>\n",
       "      <td>265.00</td>\n",
       "      <td>219.60</td>\n",
       "      <td>220.00</td>\n",
       "    </tr>\n",
       "    <tr>\n",
       "      <th>DNB.OL</th>\n",
       "      <td>231.1000</td>\n",
       "      <td>194.00</td>\n",
       "      <td>265.00</td>\n",
       "      <td>223.02</td>\n",
       "      <td>215.50</td>\n",
       "    </tr>\n",
       "    <tr>\n",
       "      <th>EVO.ST</th>\n",
       "      <td>1000.5000</td>\n",
       "      <td>900.26</td>\n",
       "      <td>1760.82</td>\n",
       "      <td>1407.02</td>\n",
       "      <td>1410.52</td>\n",
       "    </tr>\n",
       "    <tr>\n",
       "      <th>GOOG</th>\n",
       "      <td>173.2100</td>\n",
       "      <td>185.00</td>\n",
       "      <td>225.00</td>\n",
       "      <td>206.60</td>\n",
       "      <td>205.00</td>\n",
       "    </tr>\n",
       "    <tr>\n",
       "      <th>INVE-B.ST</th>\n",
       "      <td>302.1500</td>\n",
       "      <td>260.00</td>\n",
       "      <td>380.00</td>\n",
       "      <td>320.50</td>\n",
       "      <td>321.50</td>\n",
       "    </tr>\n",
       "    <tr>\n",
       "      <th>MSFT</th>\n",
       "      <td>413.8500</td>\n",
       "      <td>425.00</td>\n",
       "      <td>600.00</td>\n",
       "      <td>497.11</td>\n",
       "      <td>500.00</td>\n",
       "    </tr>\n",
       "    <tr>\n",
       "      <th>NVDA</th>\n",
       "      <td>136.4000</td>\n",
       "      <td>75.40</td>\n",
       "      <td>202.79</td>\n",
       "      <td>148.87</td>\n",
       "      <td>150.00</td>\n",
       "    </tr>\n",
       "    <tr>\n",
       "      <th>SBO.OL</th>\n",
       "      <td>32.6000</td>\n",
       "      <td>30.00</td>\n",
       "      <td>35.00</td>\n",
       "      <td>32.50</td>\n",
       "      <td>32.50</td>\n",
       "    </tr>\n",
       "    <tr>\n",
       "      <th>YAR.OL</th>\n",
       "      <td>333.5000</td>\n",
       "      <td>280.50</td>\n",
       "      <td>435.77</td>\n",
       "      <td>354.80</td>\n",
       "      <td>345.70</td>\n",
       "    </tr>\n",
       "  </tbody>\n",
       "</table>\n",
       "</div>"
      ],
      "text/plain": [
       "             current     low     high     mean   median\n",
       "2020.OL     132.8000  152.31   207.53   187.70   202.38\n",
       "AMZN        199.5102  180.00   265.00   219.60   220.00\n",
       "DNB.OL      231.1000  194.00   265.00   223.02   215.50\n",
       "EVO.ST     1000.5000  900.26  1760.82  1407.02  1410.52\n",
       "GOOG        173.2100  185.00   225.00   206.60   205.00\n",
       "INVE-B.ST   302.1500  260.00   380.00   320.50   321.50\n",
       "MSFT        413.8500  425.00   600.00   497.11   500.00\n",
       "NVDA        136.4000   75.40   202.79   148.87   150.00\n",
       "SBO.OL       32.6000   30.00    35.00    32.50    32.50\n",
       "YAR.OL      333.5000  280.50   435.77   354.80   345.70"
      ]
     },
     "execution_count": 57,
     "metadata": {},
     "output_type": "execute_result"
    }
   ],
   "source": [
    "df_price_targets"
   ]
  },
  {
   "cell_type": "code",
   "execution_count": 49,
   "metadata": {},
   "outputs": [
    {
     "data": {
      "text/plain": [
       "413.8789"
      ]
     },
     "execution_count": 49,
     "metadata": {},
     "output_type": "execute_result"
    }
   ],
   "source": [
    "msft = yf.Ticker(\"MSFT\")\n",
    "msft.info['currentPrice']"
   ]
  },
  {
   "cell_type": "code",
   "execution_count": null,
   "metadata": {},
   "outputs": [],
   "source": []
  },
  {
   "cell_type": "code",
   "execution_count": null,
   "metadata": {},
   "outputs": [],
   "source": []
  },
  {
   "cell_type": "code",
   "execution_count": 5,
   "metadata": {},
   "outputs": [],
   "source": [
    "msft = yf.Ticker(\"MSFT\")"
   ]
  },
  {
   "cell_type": "code",
   "execution_count": 6,
   "metadata": {},
   "outputs": [],
   "source": [
    "df = msft.history('5y')"
   ]
  },
  {
   "cell_type": "code",
   "execution_count": 7,
   "metadata": {},
   "outputs": [
    {
     "data": {
      "text/plain": [
       "[<matplotlib.lines.Line2D at 0x12551bbc0>]"
      ]
     },
     "execution_count": 7,
     "metadata": {},
     "output_type": "execute_result"
    },
    {
     "data": {
      "image/png": "[encoded data removed]",
      "text/plain": [
       "<Figure size 640x480 with 1 Axes>"
      ]
     },
     "metadata": {},
     "output_type": "display_data"
    }
   ],
   "source": [
    "plt.plot(df['Close'])"
   ]
  },
  {
   "cell_type": "code",
   "execution_count": 10,
   "metadata": {},
   "outputs": [
    {
     "data": {
      "text/plain": [
       "{'Dividend Date': datetime.date(2024, 12, 12),\n",
       " 'Ex-Dividend Date': datetime.date(2024, 11, 21),\n",
       " 'Earnings Date': [datetime.date(2025, 1, 28), datetime.date(2025, 2, 3)],\n",
       " 'Earnings High': 3.37,\n",
       " 'Earnings Low': 3.08,\n",
       " 'Earnings Average': 3.16,\n",
       " 'Revenue High': 70570000000,\n",
       " 'Revenue Low': 68488700000,\n",
       " 'Revenue Average': 69048200000}"
      ]
     },
     "execution_count": 10,
     "metadata": {},
     "output_type": "execute_result"
    }
   ],
   "source": [
    "msft.calendar"
   ]
  },
  {
   "cell_type": "code",
   "execution_count": null,
   "metadata": {},
   "outputs": [],
   "source": [
    "df_calendar = pd.DataFrame((ticker"
   ]
  },
  {
   "cell_type": "code",
   "execution_count": 35,
   "metadata": {},
   "outputs": [],
   "source": [
    "hist = msft.history(period=\"1d\")"
   ]
  },
  {
   "cell_type": "code",
   "execution_count": 36,
   "metadata": {},
   "outputs": [
    {
     "data": {
      "text/html": [
       "<div>\n",
       "<style scoped>\n",
       "    .dataframe tbody tr th:only-of-type {\n",
       "        vertical-align: middle;\n",
       "    }\n",
       "\n",
       "    .dataframe tbody tr th {\n",
       "        vertical-align: top;\n",
       "    }\n",
       "\n",
       "    .dataframe thead th {\n",
       "        text-align: right;\n",
       "    }\n",
       "</style>\n",
       "<table border=\"1\" class=\"dataframe\">\n",
       "  <thead>\n",
       "    <tr style=\"text-align: right;\">\n",
       "      <th></th>\n",
       "      <th>Open</th>\n",
       "      <th>High</th>\n",
       "      <th>Low</th>\n",
       "      <th>Close</th>\n",
       "      <th>Volume</th>\n",
       "      <th>Dividends</th>\n",
       "      <th>Stock Splits</th>\n",
       "    </tr>\n",
       "    <tr>\n",
       "      <th>Date</th>\n",
       "      <th></th>\n",
       "      <th></th>\n",
       "      <th></th>\n",
       "      <th></th>\n",
       "      <th></th>\n",
       "      <th></th>\n",
       "      <th></th>\n",
       "    </tr>\n",
       "  </thead>\n",
       "  <tbody>\n",
       "    <tr>\n",
       "      <th>2024-11-01 00:00:00-04:00</th>\n",
       "      <td>409.01001</td>\n",
       "      <td>415.5</td>\n",
       "      <td>407.5</td>\n",
       "      <td>414.244995</td>\n",
       "      <td>12554429</td>\n",
       "      <td>0.0</td>\n",
       "      <td>0.0</td>\n",
       "    </tr>\n",
       "  </tbody>\n",
       "</table>\n",
       "</div>"
      ],
      "text/plain": [
       "                                Open   High    Low       Close    Volume  \\\n",
       "Date                                                                       \n",
       "2024-11-01 00:00:00-04:00  409.01001  415.5  407.5  414.244995  12554429   \n",
       "\n",
       "                           Dividends  Stock Splits  \n",
       "Date                                                \n",
       "2024-11-01 00:00:00-04:00        0.0           0.0  "
      ]
     },
     "execution_count": 36,
     "metadata": {},
     "output_type": "execute_result"
    }
   ],
   "source": [
    "hist"
   ]
  },
  {
   "cell_type": "code",
   "execution_count": null,
   "metadata": {},
   "outputs": [],
   "source": []
  }
 ],
 "metadata": {
  "kernelspec": {
   "display_name": "Python 3 (ipykernel)",
   "language": "python",
   "name": "python3"
  },
  "language_info": {
   "codemirror_mode": {
    "name": "ipython",
    "version": 3
   },
   "file_extension": ".py",
   "mimetype": "text/x-python",
   "name": "python",
   "nbconvert_exporter": "python",
   "pygments_lexer": "ipython3",
   "version": "3.12.7"
  }
 },
 "nbformat": 4,
 "nbformat_minor": 4
}
