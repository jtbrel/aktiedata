{
 "cells": [
  {
   "cell_type": "code",
   "execution_count": 10,
   "metadata": {},
   "outputs": [],
   "source": [
    "import pandas as pd\n",
    "import numpy as np\n",
    "import yfinance as yf\n",
    "from sklearn.model_selection import train_test_split\n",
    "from sklearn.linear_model import LinearRegression\n",
    "from sklearn.ensemble import RandomForestRegressor\n",
    "from sklearn.svm import SVR\n",
    "from xgboost import XGBRegressor\n",
    "from sklearn.metrics import mean_squared_error, r2_score\n",
    "import joblib"
   ]
  },
  {
   "cell_type": "code",
   "execution_count": 11,
   "metadata": {},
   "outputs": [
    {
     "data": {
      "text/plain": [
       "yfinance.Ticker object <MSFT>"
      ]
     },
     "execution_count": 11,
     "metadata": {},
     "output_type": "execute_result"
    }
   ],
   "source": [
    "msft = yf.Ticker('MSFT')\n",
    "msft"
   ]
  },
  {
   "cell_type": "code",
   "execution_count": 21,
   "metadata": {},
   "outputs": [],
   "source": [
    "stock_data = msft.history('2y')"
   ]
  },
  {
   "cell_type": "code",
   "execution_count": 22,
   "metadata": {},
   "outputs": [],
   "source": [
    "# Assuming the DataFrame is sorted by date in ascending order\n",
    "# We will use 80% of the data for training and the last 20% for testing\n",
    "split_ratio = 0.8\n",
    "split_index = int(len(stock_data) * split_ratio)\n",
    "\n",
    "train_data = stock_data.iloc[:split_index]\n",
    "test_data = stock_data.iloc[split_index:]\n",
    "\n",
    "# Shift the target variable (y) for the training data to predict the future\n",
    "DAYS_OUT_TO_PREDICT = 10  # Modify this value as needed\n",
    "y_train = train_data['Close'].shift(-DAYS_OUT_TO_PREDICT).dropna()\n",
    "X_train = train_data.drop(['Close'], axis=1).iloc[:-DAYS_OUT_TO_PREDICT]\n",
    "\n",
    "X_test = test_data.drop(['Close'], axis=1)\n",
    "y_test = test_data['Close']\n"
   ]
  },
  {
   "cell_type": "code",
   "execution_count": 23,
   "metadata": {},
   "outputs": [],
   "source": [
    "\n",
    "# Create a list of regressors you want to try\n",
    "regressors = [\n",
    "    LinearRegression(),\n",
    "    RandomForestRegressor(),\n",
    "    # SVR(kernel='linear'), - tar lang tid\n",
    "    XGBRegressor(),\n",
    "    # Add more regressors as per your choice\n",
    "]\n"
   ]
  },
  {
   "cell_type": "code",
   "execution_count": 24,
   "metadata": {},
   "outputs": [],
   "source": [
    "best_mse = float('inf')\n",
    "best_regressor = None"
   ]
  },
  {
   "cell_type": "code",
   "execution_count": 25,
   "metadata": {},
   "outputs": [
    {
     "name": "stdout",
     "output_type": "stream",
     "text": [
      "Regressor: LinearRegression\n",
      "Mean Squared Error (MSE): 34.442455037525015\n",
      "\n",
      "Regressor: RandomForestRegressor\n",
      "Mean Squared Error (MSE): 150.2589341518314\n",
      "\n",
      "Regressor: XGBRegressor\n",
      "Mean Squared Error (MSE): 174.407281119139\n",
      "\n"
     ]
    }
   ],
   "source": [
    "for regressor in regressors:\n",
    "    # Creating the regressor\n",
    "    model = regressor\n",
    "\n",
    "    # Fitting the model on the training data\n",
    "    model.fit(X_train, y_train)\n",
    "\n",
    "    # Making predictions on the test data\n",
    "    y_pred = model.predict(X_test)\n",
    "\n",
    "    # Evaluating the model (You can use various metrics to evaluate the model's performance)\n",
    "    mse = mean_squared_error(y_test, y_pred)\n",
    "    r2 = r2_score(y_test, y_pred)\n",
    "\n",
    "    print(f\"Regressor: {regressor.__class__.__name__}\")\n",
    "    print(f\"Mean Squared Error (MSE): {mse}\")\n",
    "\n",
    "    if mse < best_mse:\n",
    "        best_mse = mse\n",
    "        best_regressor = model\n",
    "\n",
    "    print()"
   ]
  },
  {
   "cell_type": "code",
   "execution_count": 27,
   "metadata": {},
   "outputs": [],
   "source": [
    "joblib.dump(best_regressor, 'best_model.joblib')\n",
    "\n",
    "# Now, you can use the saved model in another system or script.\n",
    "# For example, in a different system, you can load the model and make predictions:\n",
    "\n",
    "# Load the model from the file\n",
    "loaded_model = joblib.load('best_model.joblib')\n",
    "\n",
    "# Assuming 'future_data' is the DataFrame containing future data\n",
    "future_close_prices = loaded_model.predict(X_test)"
   ]
  },
  {
   "cell_type": "code",
   "execution_count": null,
   "metadata": {},
   "outputs": [],
   "source": []
  }
 ],
 "metadata": {
  "kernelspec": {
   "display_name": "env",
   "language": "python",
   "name": "python3"
  },
  "language_info": {
   "codemirror_mode": {
    "name": "ipython",
    "version": 3
   },
   "file_extension": ".py",
   "mimetype": "text/x-python",
   "name": "python",
   "nbconvert_exporter": "python",
   "pygments_lexer": "ipython3",
   "version": "3.10.2"
  },
  "orig_nbformat": 4
 },
 "nbformat": 4,
 "nbformat_minor": 2
}
