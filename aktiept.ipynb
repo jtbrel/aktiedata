{
 "cells": [
  {
   "cell_type": "code",
   "execution_count": 4,
   "metadata": {},
   "outputs": [],
   "source": [
    "import pandas as pd\n",
    "import numpy as np\n",
    "import yfinance as yf\n",
    "import torch\n",
    "import torch.nn as nn\n",
    "import torch.optim as optim\n",
    "from torch.utils.data import DataLoader, TensorDataset\n",
    "from sklearn.model_selection import train_test_split\n",
    "from sklearn.preprocessing import StandardScaler\n",
    "from sklearn.metrics import mean_squared_error, r2_score"
   ]
  },
  {
   "cell_type": "code",
   "execution_count": 5,
   "metadata": {},
   "outputs": [],
   "source": [
    "ticker = yf.Ticker('EVO.ST')\n",
    "df = ticker.history('5y')"
   ]
  },
  {
   "cell_type": "code",
   "execution_count": 7,
   "metadata": {},
   "outputs": [],
   "source": [
    "X = df.drop('Close', axis=1)\n",
    "y = df['Close']"
   ]
  },
  {
   "cell_type": "code",
   "execution_count": 8,
   "metadata": {},
   "outputs": [],
   "source": [
    "# Splitting the data into training and testing sets\n",
    "X_train, X_test, y_train, y_test = train_test_split(X, y, test_size=0.2, random_state=42)\n",
    "\n",
    "# Normalize the features using StandardScaler\n",
    "scaler = StandardScaler()\n",
    "X_train_scaled = scaler.fit_transform(X_train)\n",
    "X_test_scaled = scaler.transform(X_test)\n",
    "\n",
    "# Convert the numpy arrays to PyTorch tensors\n",
    "X_train_tensor = torch.tensor(X_train_scaled, dtype=torch.float32)\n",
    "y_train_tensor = torch.tensor(y_train.values, dtype=torch.float32).view(-1, 1)  # Reshape y to a column vector\n",
    "X_test_tensor = torch.tensor(X_test_scaled, dtype=torch.float32)\n",
    "y_test_tensor = torch.tensor(y_test.values, dtype=torch.float32).view(-1, 1)  # Reshape y to a column vector\n",
    "\n"
   ]
  },
  {
   "cell_type": "code",
   "execution_count": 9,
   "metadata": {},
   "outputs": [],
   "source": [
    "# Create DataLoader for batch processing during training\n",
    "train_dataset = TensorDataset(X_train_tensor, y_train_tensor)\n",
    "train_loader = DataLoader(train_dataset, batch_size=64, shuffle=True)"
   ]
  },
  {
   "cell_type": "code",
   "execution_count": 10,
   "metadata": {},
   "outputs": [],
   "source": [
    "class RegressionModel(nn.Module):\n",
    "    def __init__(self, input_size):\n",
    "        super(RegressionModel, self).__init__()\n",
    "        self.fc = nn.Linear(input_size, 1)\n",
    "\n",
    "    def forward(self, x):\n",
    "        return self.fc(x)"
   ]
  },
  {
   "cell_type": "code",
   "execution_count": 11,
   "metadata": {},
   "outputs": [],
   "source": [
    "input_size = X_train_tensor.shape[1]\n",
    "model = RegressionModel(input_size)\n",
    "\n",
    "# Define the loss function and optimizer\n",
    "criterion = nn.MSELoss()\n",
    "optimizer = optim.Adam(model.parameters(), lr=0.001)\n"
   ]
  },
  {
   "cell_type": "code",
   "execution_count": 12,
   "metadata": {},
   "outputs": [
    {
     "name": "stdout",
     "output_type": "stream",
     "text": [
      "Epoch 1/100, Loss: 838161.6796875\n",
      "Epoch 2/100, Loss: 841038.265625\n",
      "Epoch 3/100, Loss: 839556.703125\n",
      "Epoch 4/100, Loss: 837595.0234375\n",
      "Epoch 5/100, Loss: 842336.35546875\n",
      "Epoch 6/100, Loss: 840217.83984375\n",
      "Epoch 7/100, Loss: 842862.26953125\n",
      "Epoch 8/100, Loss: 840785.81640625\n",
      "Epoch 9/100, Loss: 841000.52734375\n",
      "Epoch 10/100, Loss: 839449.84375\n",
      "Epoch 11/100, Loss: 837816.484375\n",
      "Epoch 12/100, Loss: 841037.5625\n",
      "Epoch 13/100, Loss: 843080.1171875\n",
      "Epoch 14/100, Loss: 841035.0234375\n",
      "Epoch 15/100, Loss: 839005.98046875\n",
      "Epoch 16/100, Loss: 839263.26953125\n",
      "Epoch 17/100, Loss: 835422.36328125\n",
      "Epoch 18/100, Loss: 838009.52734375\n",
      "Epoch 19/100, Loss: 842749.27734375\n",
      "Epoch 20/100, Loss: 840232.890625\n",
      "Epoch 21/100, Loss: 838888.87890625\n",
      "Epoch 22/100, Loss: 839244.75\n",
      "Epoch 23/100, Loss: 838940.41796875\n",
      "Epoch 24/100, Loss: 838422.79296875\n",
      "Epoch 25/100, Loss: 843082.859375\n",
      "Epoch 26/100, Loss: 838019.51953125\n",
      "Epoch 27/100, Loss: 837470.109375\n",
      "Epoch 28/100, Loss: 842843.28125\n",
      "Epoch 29/100, Loss: 837677.8828125\n",
      "Epoch 30/100, Loss: 840066.69921875\n",
      "Epoch 31/100, Loss: 836812.59375\n",
      "Epoch 32/100, Loss: 838666.875\n",
      "Epoch 33/100, Loss: 839040.52734375\n",
      "Epoch 34/100, Loss: 838962.37109375\n",
      "Epoch 35/100, Loss: 837731.7109375\n",
      "Epoch 36/100, Loss: 834845.94921875\n",
      "Epoch 37/100, Loss: 838474.6953125\n",
      "Epoch 38/100, Loss: 837930.7734375\n",
      "Epoch 39/100, Loss: 839862.09375\n",
      "Epoch 40/100, Loss: 842305.65625\n",
      "Epoch 41/100, Loss: 837407.7890625\n",
      "Epoch 42/100, Loss: 839191.39453125\n",
      "Epoch 43/100, Loss: 836073.71484375\n",
      "Epoch 44/100, Loss: 842942.6953125\n",
      "Epoch 45/100, Loss: 837429.99609375\n",
      "Epoch 46/100, Loss: 839182.2578125\n",
      "Epoch 47/100, Loss: 833972.5625\n",
      "Epoch 48/100, Loss: 833664.79296875\n",
      "Epoch 49/100, Loss: 837168.7265625\n",
      "Epoch 50/100, Loss: 838665.50390625\n",
      "Epoch 51/100, Loss: 840827.44921875\n",
      "Epoch 52/100, Loss: 840853.08984375\n",
      "Epoch 53/100, Loss: 836013.234375\n",
      "Epoch 54/100, Loss: 839980.34375\n",
      "Epoch 55/100, Loss: 835481.28515625\n",
      "Epoch 56/100, Loss: 833345.48046875\n",
      "Epoch 57/100, Loss: 832037.0546875\n",
      "Epoch 58/100, Loss: 840534.75\n",
      "Epoch 59/100, Loss: 830991.99609375\n",
      "Epoch 60/100, Loss: 833779.37109375\n",
      "Epoch 61/100, Loss: 837893.81640625\n",
      "Epoch 62/100, Loss: 832538.00390625\n",
      "Epoch 63/100, Loss: 837115.83203125\n",
      "Epoch 64/100, Loss: 834369.55078125\n",
      "Epoch 65/100, Loss: 836103.1875\n",
      "Epoch 66/100, Loss: 837580.765625\n",
      "Epoch 67/100, Loss: 837959.15625\n",
      "Epoch 68/100, Loss: 838646.8984375\n",
      "Epoch 69/100, Loss: 837252.2890625\n",
      "Epoch 70/100, Loss: 837595.99609375\n",
      "Epoch 71/100, Loss: 834103.42578125\n",
      "Epoch 72/100, Loss: 833038.69921875\n",
      "Epoch 73/100, Loss: 836423.86328125\n",
      "Epoch 74/100, Loss: 832199.5390625\n",
      "Epoch 75/100, Loss: 829326.08984375\n",
      "Epoch 76/100, Loss: 834069.62890625\n",
      "Epoch 77/100, Loss: 836575.61328125\n",
      "Epoch 78/100, Loss: 835431.0\n",
      "Epoch 79/100, Loss: 833735.60546875\n",
      "Epoch 80/100, Loss: 839903.30859375\n",
      "Epoch 81/100, Loss: 834021.49609375\n",
      "Epoch 82/100, Loss: 835931.43359375\n",
      "Epoch 83/100, Loss: 837754.16796875\n",
      "Epoch 84/100, Loss: 837346.796875\n",
      "Epoch 85/100, Loss: 838278.68359375\n",
      "Epoch 86/100, Loss: 833052.40234375\n",
      "Epoch 87/100, Loss: 834720.234375\n",
      "Epoch 88/100, Loss: 838991.9921875\n",
      "Epoch 89/100, Loss: 829418.25\n",
      "Epoch 90/100, Loss: 835772.8828125\n",
      "Epoch 91/100, Loss: 834468.25\n",
      "Epoch 92/100, Loss: 833765.02734375\n",
      "Epoch 93/100, Loss: 835294.8515625\n",
      "Epoch 94/100, Loss: 835274.6875\n",
      "Epoch 95/100, Loss: 835518.12890625\n",
      "Epoch 96/100, Loss: 832171.75390625\n",
      "Epoch 97/100, Loss: 834796.05078125\n",
      "Epoch 98/100, Loss: 835220.71484375\n",
      "Epoch 99/100, Loss: 833421.98046875\n",
      "Epoch 100/100, Loss: 831067.203125\n"
     ]
    }
   ],
   "source": [
    "# Training the model\n",
    "num_epochs = 100\n",
    "\n",
    "for epoch in range(num_epochs):\n",
    "    model.train()  # Set the model in training mode\n",
    "    total_loss = 0\n",
    "\n",
    "    for inputs, targets in train_loader:\n",
    "        optimizer.zero_grad()  # Zero the gradients\n",
    "        outputs = model(inputs)  # Forward pass\n",
    "        loss = criterion(outputs, targets)  # Calculate the loss\n",
    "        loss.backward()  # Backpropagation\n",
    "        optimizer.step()  # Update the weights\n",
    "        total_loss += loss.item()\n",
    "\n",
    "    # Print the average loss for the epoch\n",
    "    print(f\"Epoch {epoch + 1}/{num_epochs}, Loss: {total_loss / len(train_loader)}\")\n"
   ]
  },
  {
   "cell_type": "code",
   "execution_count": 13,
   "metadata": {},
   "outputs": [
    {
     "name": "stdout",
     "output_type": "stream",
     "text": [
      "Mean Squared Error (MSE): 720393.8125\n",
      "R-squared (R2): -2.2707482429253556\n"
     ]
    },
    {
     "ename": "NameError",
     "evalue": "name 'future_data' is not defined",
     "output_type": "error",
     "traceback": [
      "\u001b[1;31m---------------------------------------------------------------------------\u001b[0m",
      "\u001b[1;31mNameError\u001b[0m                                 Traceback (most recent call last)",
      "Cell \u001b[1;32mIn[13], line 15\u001b[0m\n\u001b[0;32m      9\u001b[0m     \u001b[39mprint\u001b[39m(\u001b[39mf\u001b[39m\u001b[39m\"\u001b[39m\u001b[39mR-squared (R2): \u001b[39m\u001b[39m{\u001b[39;00mr2\u001b[39m}\u001b[39;00m\u001b[39m\"\u001b[39m)\n\u001b[0;32m     11\u001b[0m \u001b[39m# Now, you can use the trained model for predicting future stock prices\u001b[39;00m\n\u001b[0;32m     12\u001b[0m \u001b[39m# Create a new DataFrame called 'future_data' containing the features (OHLC, Volume, Dividend, Stock_Splits) for the future dates.\u001b[39;00m\n\u001b[0;32m     13\u001b[0m \n\u001b[0;32m     14\u001b[0m \u001b[39m# Assuming 'future_data' is the DataFrame containing future data\u001b[39;00m\n\u001b[1;32m---> 15\u001b[0m future_data_scaled \u001b[39m=\u001b[39m scaler\u001b[39m.\u001b[39mtransform(future_data)\n\u001b[0;32m     16\u001b[0m future_data_tensor \u001b[39m=\u001b[39m torch\u001b[39m.\u001b[39mtensor(future_data_scaled, dtype\u001b[39m=\u001b[39mtorch\u001b[39m.\u001b[39mfloat32)\n\u001b[0;32m     17\u001b[0m future_close_prices \u001b[39m=\u001b[39m model(future_data_tensor)\u001b[39m.\u001b[39mnumpy()\u001b[39m.\u001b[39mflatten()\n",
      "\u001b[1;31mNameError\u001b[0m: name 'future_data' is not defined"
     ]
    }
   ],
   "source": [
    "# Evaluating the model on the test data\n",
    "model.eval()  # Set the model in evaluation mode\n",
    "with torch.no_grad():\n",
    "    y_pred = model(X_test_tensor)\n",
    "    mse = mean_squared_error(y_test_tensor, y_pred)\n",
    "    r2 = r2_score(y_test_tensor, y_pred)\n",
    "\n",
    "    print(f\"Mean Squared Error (MSE): {mse}\")\n",
    "    print(f\"R-squared (R2): {r2}\")\n",
    "\n",
    "# Now, you can use the trained model for predicting future stock prices\n",
    "# Create a new DataFrame called 'future_data' containing the features (OHLC, Volume, Dividend, Stock_Splits) for the future dates.\n",
    "\n",
    "# Assuming 'future_data' is the DataFrame containing future data\n",
    "future_data_scaled = scaler.transform(future_data)\n",
    "future_data_tensor = torch.tensor(future_data_scaled, dtype=torch.float32)\n",
    "future_close_prices = model(future_data_tensor).numpy().flatten()\n",
    "\n",
    "# 'future_close_prices' will contain the predicted Close prices for the future dates."
   ]
  },
  {
   "cell_type": "code",
   "execution_count": null,
   "metadata": {},
   "outputs": [],
   "source": []
  }
 ],
 "metadata": {
  "kernelspec": {
   "display_name": "env",
   "language": "python",
   "name": "python3"
  },
  "language_info": {
   "codemirror_mode": {
    "name": "ipython",
    "version": 3
   },
   "file_extension": ".py",
   "mimetype": "text/x-python",
   "name": "python",
   "nbconvert_exporter": "python",
   "pygments_lexer": "ipython3",
   "version": "3.10.2"
  },
  "orig_nbformat": 4
 },
 "nbformat": 4,
 "nbformat_minor": 2
}
